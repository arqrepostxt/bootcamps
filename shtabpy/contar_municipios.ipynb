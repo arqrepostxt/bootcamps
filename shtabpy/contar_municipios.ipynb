{
 "cells": [
  {
   "cell_type": "code",
   "execution_count": 4,
   "metadata": {},
   "outputs": [],
   "source": [
    "import pandas as pd"
   ]
  },
  {
   "cell_type": "code",
   "execution_count": 6,
   "metadata": {},
   "outputs": [
    {
     "name": "stdout",
     "output_type": "stream",
     "text": [
      "2\n"
     ]
    }
   ],
   "source": [
    "# Copiar arquivo excel como dataframe df\n",
    "df = pd.read_excel('export/dev15rows.xlsx')\n",
    "# Cria lista com valores da coluna MUNICÍPIO:\n",
    "column_list = df['MUNICÍPIO:'].to_list()\n",
    "# Cria um set para registrar os valores únicos da coluna\n",
    "mylist = set(column_list)\n",
    "\n",
    "# Imprime o número de itens da lista\n",
    "print(len(mylist))\n"
   ]
  }
 ],
 "metadata": {
  "interpreter": {
   "hash": "916dbcbb3f70747c44a77c7bcd40155683ae19c65e1c03b4aa3499c5328201f1"
  },
  "kernelspec": {
   "display_name": "Python 3.8.10 64-bit",
   "language": "python",
   "name": "python3"
  },
  "language_info": {
   "codemirror_mode": {
    "name": "ipython",
    "version": 3
   },
   "file_extension": ".py",
   "mimetype": "text/x-python",
   "name": "python",
   "nbconvert_exporter": "python",
   "pygments_lexer": "ipython3",
   "version": "3.8.10"
  },
  "orig_nbformat": 4
 },
 "nbformat": 4,
 "nbformat_minor": 2
}

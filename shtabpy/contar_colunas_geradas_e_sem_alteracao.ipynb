{
 "cells": [
  {
   "cell_type": "code",
   "execution_count": 2,
   "metadata": {},
   "outputs": [],
   "source": [
    "import pandas as pd\n",
    "df = pd.read_excel('export/dev15rows.xlsx')\n"
   ]
  },
  {
   "cell_type": "code",
   "execution_count": 15,
   "metadata": {},
   "outputs": [
    {
     "name": "stdout",
     "output_type": "stream",
     "text": [
      "A coluna ESTRUTURAS E ELEMENTOS: é gera 6 colunas\n",
      "A coluna POSSUÍ ACESSO À ÁGUA? é gera 2 colunas\n",
      "A coluna A ÁGUA É SUFICIENTE PARA: é gera 2 colunas\n",
      "A coluna FONTES DE RENDA NÃO AGRÍCOLA? é gera 3 colunas\n",
      "A coluna QUAIS SÃO AS DUAS PRINCIPAIS CULTURAS PRODUZIDAS é gera 12 colunas\n",
      "A coluna FAZEM PRODUÇÃO ORGÂNICA ANIMAL E/OU VEGETAL? é gera 2 colunas\n",
      "A coluna QUAIS AS ESPÉCIES CULTIVADAS NO LOTE INDIVIDUAL? é gera 5 colunas\n",
      "A coluna EXISTE ESTRUTURA DA PRODUÇÃO ANIMAL? é gera 2 colunas\n",
      "A coluna VOCÊ GOSTARIA DE CRÉDITO RURAL PARA? é gera 10 colunas\n",
      "A coluna ANOTAÇÕES E SUGESTÕES é gera 2 colunas\n",
      "Colunas geradas 36\n",
      "Colunas sem alteração 44\n"
     ]
    }
   ],
   "source": [
    "count_change = 0;\n",
    "count_original = 0; \n",
    "for col in df.columns:\n",
    "    partir = df[col].astype(str).str.split(',', expand=True)\n",
    "    if len(partir.columns) == 1:\n",
    "        count_original+=1\n",
    "    else:\n",
    "        count_change += len(partir.columns)-1\n",
    "        print('A coluna {} é'.format(col),'gera', len(partir.columns), 'colunas')\n",
    "print('Colunas geradas', count_change)\n",
    "print('Colunas sem alteração', count_original)\n",
    "        "
   ]
  },
  {
   "cell_type": "code",
   "execution_count": null,
   "metadata": {},
   "outputs": [],
   "source": [
    "# main_string = 'MUNICÍPIO:'\n",
    "title_string ='VOCÊ GOSTARIA DE CRÉDITO RURAL PARA?'\n",
    "original_df = pd.DataFrame(df['{}'.format(title_string)])\n",
    "new_df = df['{}'.format(title_string)].str.split(',', expand=True)\n",
    "# Exibir número de Colunas\n",
    "original_size = len(original_df.columns) \n",
    "new_size = len(new_df.columns)\n",
    "resto =  new_size - original_size\n",
    "\n",
    "type(df['{}'.format(title_string)])\n"
   ]
  },
  {
   "cell_type": "code",
   "execution_count": null,
   "metadata": {},
   "outputs": [],
   "source": [
    "# azul = df['VOCÊ GOSTARIA DE CRÉDITO RURAL PARA?'].str.split(',', expand=True)\n",
    "# Titular 6 da coluna 1\n",
    "#  print(azul[1][6])\n",
    "# print(df[['UF: ','NOME DO TITULAR:']])\n"
   ]
  },
  {
   "cell_type": "code",
   "execution_count": null,
   "metadata": {},
   "outputs": [],
   "source": [
    "# alt_df['ESTRUTURAS E ELEMENTOS:'].str.split(',', expand=True)\n",
    "# 6 colunas\n",
    "# alt_df['A ÁGUA É SUFICIENTE PARA:'].str.split(',', expand=True)\n",
    "# alt_df['FONTES DE RENDA NÃO AGRÍCOLA?'].str.split(',', expand=True)\n",
    "# alt_df['QUAIS SÃO AS DUAS PRINCIPAIS CULTURAS PRODUZIDAS'].str.split(',', expand=True)\n",
    "# alt_df['QUAL O PRINCIPAL PRODUTO AGRÍCOLA QUE ESTÁ GERANDO MAIS RENDA?'].str.split(',', expand=True)\n",
    "# alt_df['FAZEM PRODUÇÃO ORGÂNICA ANIMAL E/OU VEGETAL?'].str.split(',', expand=True)\n",
    "# alt_df['QUAIS AS ESPÉCIES CULTIVADAS NO LOTE COLETIVO?'].str.split(',', expand=True)\n",
    "# alt_df['QUAIS AS ESPÉCIES CULTIVADAS NO LOTE INDIVIDUAL?'].str.split(',', expand=True)\n",
    "# alt_df['QUAIS AS ESPÉCIES CULTIVADAS NO LOTE DA AGROVILA?'].str.split(',', expand=True)\n",
    "# alt_df['EXISTE ESTRUTURA DA PRODUÇÃO ANIMAL?'].str.split(',', expand=True)\n"
   ]
  },
  {
   "cell_type": "code",
   "execution_count": null,
   "metadata": {},
   "outputs": [],
   "source": []
  }
 ],
 "metadata": {
  "interpreter": {
   "hash": "916dbcbb3f70747c44a77c7bcd40155683ae19c65e1c03b4aa3499c5328201f1"
  },
  "kernelspec": {
   "display_name": "Python 3.8.10 64-bit",
   "language": "python",
   "name": "python3"
  },
  "language_info": {
   "codemirror_mode": {
    "name": "ipython",
    "version": 3
   },
   "file_extension": ".py",
   "mimetype": "text/x-python",
   "name": "python",
   "nbconvert_exporter": "python",
   "pygments_lexer": "ipython3",
   "version": "3.8.10"
  },
  "orig_nbformat": 4
 },
 "nbformat": 4,
 "nbformat_minor": 2
}

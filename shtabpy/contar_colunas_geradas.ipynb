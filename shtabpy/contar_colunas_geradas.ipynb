{
 "cells": [
  {
   "cell_type": "code",
   "execution_count": null,
   "metadata": {},
   "outputs": [],
   "source": [
    "import pandas as pd\n",
    "df = pd.read_excel('export/dev15rows.xlsx')\n"
   ]
  },
  {
   "cell_type": "code",
   "execution_count": null,
   "metadata": {},
   "outputs": [],
   "source": [
    "# main_string = 'MUNICÍPIO:'\n",
    "title_string ='VOCÊ GOSTARIA DE CRÉDITO RURAL PARA?'\n",
    "original_df = pd.DataFrame(df['{}'.format(title_string)])\n",
    "new_df = df['{}'.format(title_string)].str.split(',', expand=True)\n",
    "# Exibir número de Colunas\n",
    "original_size = len(original_df.columns) \n",
    "new_size = len(new_df.columns)\n",
    "resto =  new_size - original_size\n",
    "\n",
    "# splited_df.shape\n",
    "print('A quantidade de colunas era \\n', original_size,' coluna(s)')\n",
    "print('Após separar por vírgula, a nova quantidade de colunas é \\n', new_size,' colunas')\n",
    "print('É necessário ter mais \\n', resto, ' coluna(s)')"
   ]
  }
 ],
 "metadata": {
  "interpreter": {
   "hash": "916dbcbb3f70747c44a77c7bcd40155683ae19c65e1c03b4aa3499c5328201f1"
  },
  "kernelspec": {
   "display_name": "Python 3.8.10 64-bit",
   "language": "python",
   "name": "python3"
  },
  "language_info": {
   "codemirror_mode": {
    "name": "ipython",
    "version": 3
   },
   "file_extension": ".py",
   "mimetype": "text/x-python",
   "name": "python",
   "nbconvert_exporter": "python",
   "pygments_lexer": "ipython3",
   "version": "3.8.10"
  },
  "orig_nbformat": 4
 },
 "nbformat": 4,
 "nbformat_minor": 2
}

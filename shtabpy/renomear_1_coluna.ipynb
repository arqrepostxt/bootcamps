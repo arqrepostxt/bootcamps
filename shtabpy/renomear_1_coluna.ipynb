{
 "cells": [
  {
   "cell_type": "code",
   "execution_count": 2,
   "metadata": {},
   "outputs": [
    {
     "name": "stdout",
     "output_type": "stream",
     "text": [
      "Nome da coluna 0\n",
      "Novo nome da coluna Teste\n"
     ]
    }
   ],
   "source": [
    "import pandas as pd\n",
    "# Importar dados de planilha\n",
    "lista=[1]\n",
    "\n",
    "df = pd.DataFrame(lista)\n",
    "for col in df.columns:\n",
    "    print('Nome da coluna', col)\n",
    "df.rename(columns= {0:'Teste'}, inplace=True)\n",
    "for col in df.columns:\n",
    "    print('Novo nome da coluna', col)\n",
    "df.to_excel('export/tab_replyx.xlsx', index=False)"
   ]
  }
 ],
 "metadata": {
  "interpreter": {
   "hash": "916dbcbb3f70747c44a77c7bcd40155683ae19c65e1c03b4aa3499c5328201f1"
  },
  "kernelspec": {
   "display_name": "Python 3.8.10 64-bit",
   "language": "python",
   "name": "python3"
  },
  "language_info": {
   "codemirror_mode": {
    "name": "ipython",
    "version": 3
   },
   "file_extension": ".py",
   "mimetype": "text/x-python",
   "name": "python",
   "nbconvert_exporter": "python",
   "pygments_lexer": "ipython3",
   "version": "3.8.10"
  },
  "orig_nbformat": 4
 },
 "nbformat": 4,
 "nbformat_minor": 2
}

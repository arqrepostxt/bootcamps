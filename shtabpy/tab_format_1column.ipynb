{
 "cells": [
  {
   "cell_type": "code",
   "execution_count": 9,
   "metadata": {},
   "outputs": [],
   "source": [
    "import pandas as pd\n",
    "# Importar dados de planilha\n",
    "df = pd.read_excel('data/IRENE639.xlsx')\n",
    "newdf = df\n",
    "\n",
    "for item in df.columns:\n",
    "    inside_df = pd.DataFrame(df[item].astype(str).str.split(',', n=1, expand=True))\n",
    "    # print('Iteração completa. Coluna out', item)\n",
    "    for col in inside_df.columns:\n",
    "        # print('Coluna ins', col)\n",
    "        cplace = 0\n",
    "        for x in range(0, len(inside_df.columns)):\n",
    "            inside_df.rename(columns= {cplace:f'a{col}c{x}'}, inplace=True)\n",
    "            # newdf.merge(inside_df, left_on='Registro',right_on=f'a{col}c{0}')\n",
    "            cplace = cplace + 1\n",
    "    inside_df.to_excel('export/tab_expform.xlsx', index=False)\n",
    "\n",
    "# print('newdf', type(newdf), '\\n,  inside_df', type(inside_df))\n",
    "\n",
    "# new_df.join(inside_df)\n",
    "    # df.join(inside_df)\n",
    "            \n",
    "# df['ESTRUTURAS E ELEMENTOS:'].str.split(',', expand=True)\n",
    "# print(len(lista))\n",
    "#  Originalmente 54 colunas"
   ]
  },
  {
   "cell_type": "code",
   "execution_count": null,
   "metadata": {},
   "outputs": [],
   "source": []
  }
 ],
 "metadata": {
  "interpreter": {
   "hash": "916dbcbb3f70747c44a77c7bcd40155683ae19c65e1c03b4aa3499c5328201f1"
  },
  "kernelspec": {
   "display_name": "Python 3.8.10 64-bit",
   "language": "python",
   "name": "python3"
  },
  "language_info": {
   "codemirror_mode": {
    "name": "ipython",
    "version": 3
   },
   "file_extension": ".py",
   "mimetype": "text/x-python",
   "name": "python",
   "nbconvert_exporter": "python",
   "pygments_lexer": "ipython3",
   "version": "3.8.10"
  },
  "orig_nbformat": 4
 },
 "nbformat": 4,
 "nbformat_minor": 2
}

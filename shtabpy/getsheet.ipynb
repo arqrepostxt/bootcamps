{
 "cells": [
  {
   "cell_type": "code",
   "execution_count": 1,
   "metadata": {},
   "outputs": [],
   "source": [
    "import pandas as pd"
   ]
  },
  {
   "cell_type": "code",
   "execution_count": 2,
   "metadata": {},
   "outputs": [],
   "source": [
    "df = pd.read_excel('data/IRENE639.ods')"
   ]
  },
  {
   "cell_type": "code",
   "execution_count": null,
   "metadata": {},
   "outputs": [],
   "source": [
    "df.info()"
   ]
  },
  {
   "cell_type": "code",
   "execution_count": null,
   "metadata": {},
   "outputs": [],
   "source": [
    "df.set_index('Registro')"
   ]
  },
  {
   "cell_type": "code",
   "execution_count": null,
   "metadata": {},
   "outputs": [],
   "source": [
    "# series = pd.Series(df2, df['Registro'])\n",
    "# Copia o dataframe como strings para melhor leitura de caracteres\n",
    "# df2 = df.to_string(index=False)\n",
    "# Exibi as 2 linhas iniciais\n",
    "# df.Registro.head(2)\n",
    "# Display max number of columns\n",
    "# with pd.option_context(\"display.max_rows\", None, \"display.max_columns\", None):\n",
    "#     display(com_df)"
   ]
  },
  {
   "cell_type": "code",
   "execution_count": 8,
   "metadata": {},
   "outputs": [],
   "source": [
    "posi = 10071\n",
    "com_df= df.loc[df['Registro']==posi]\n",
    "com_df.to_excel(\"export/selected{}.xlsx\".format(posi))"
   ]
  },
  {
   "cell_type": "code",
   "execution_count": 15,
   "metadata": {},
   "outputs": [],
   "source": [
    "mini_df = com_df['VOCÊ GOSTARIA DE CRÉDITO RURAL PARA?']\n",
    "# to_excel('export/selected2.xlsx')"
   ]
  },
  {
   "cell_type": "code",
   "execution_count": 17,
   "metadata": {},
   "outputs": [],
   "source": [
    "mini_df.str.split(',', expand=True).to_excel('export/selected2.xlsx')\n"
   ]
  },
  {
   "cell_type": "code",
   "execution_count": null,
   "metadata": {},
   "outputs": [],
   "source": [
    "# Forma dataframe com 30 linhas da tabulacao\n",
    "alt_df= df.loc[1:30]\n",
    "# Cria 10 colunas de acordo com as respostas ao crédito desejado e une ao dataframe alt_df\n",
    "alt_df[['Cred10', 'Cred1', 'Cred2', 'Cred3', 'Cred4', 'Cred5', 'Cred6', 'Cred7', 'Cred8', 'Cred9']] = alt_df['VOCÊ GOSTARIA DE CRÉDITO RURAL PARA?'].str.split(',', expand=True)\n",
    "# Cria um arquivo xlsx a partir do dataframe alt_df\n",
    "alt_df.to_excel('export/selected4.xlsx')"
   ]
  },
  {
   "cell_type": "code",
   "execution_count": null,
   "metadata": {},
   "outputs": [],
   "source": [
    "# alt_df['VOCÊ GOSTARIA DE CRÉDITO RURAL PARA?'].str.split(',', expand=True)\n",
    "# alt_df['ESTRUTURAS E ELEMENTOS:'].str.split(',', expand=True)\n",
    "# 6 colunas\n",
    "# alt_df['A ÁGUA É SUFICIENTE PARA:'].str.split(',', expand=True)\n",
    "# alt_df['FONTES DE RENDA NÃO AGRÍCOLA?'].str.split(',', expand=True)\n",
    "# alt_df['QUAIS SÃO AS DUAS PRINCIPAIS CULTURAS PRODUZIDAS'].str.split(',', expand=True)\n",
    "# alt_df['QUAL O PRINCIPAL PRODUTO AGRÍCOLA QUE ESTÁ GERANDO MAIS RENDA?'].str.split(',', expand=True)\n",
    "# alt_df['FAZEM PRODUÇÃO ORGÂNICA ANIMAL E/OU VEGETAL?'].str.split(',', expand=True)\n",
    "# alt_df['QUAIS AS ESPÉCIES CULTIVADAS NO LOTE COLETIVO?'].str.split(',', expand=True)\n",
    "# alt_df['QUAIS AS ESPÉCIES CULTIVADAS NO LOTE INDIVIDUAL?'].str.split(',', expand=True)\n",
    "# alt_df['QUAIS AS ESPÉCIES CULTIVADAS NO LOTE DA AGROVILA?'].str.split(',', expand=True)\n",
    "# alt_df['EXISTE ESTRUTURA DA PRODUÇÃO ANIMAL?'].str.split(',', expand=True)\n",
    "\n"
   ]
  },
  {
   "cell_type": "code",
   "execution_count": null,
   "metadata": {},
   "outputs": [],
   "source": []
  }
 ],
 "metadata": {
  "interpreter": {
   "hash": "916dbcbb3f70747c44a77c7bcd40155683ae19c65e1c03b4aa3499c5328201f1"
  },
  "kernelspec": {
   "display_name": "Python 3.8.10 64-bit",
   "language": "python",
   "name": "python3"
  },
  "language_info": {
   "codemirror_mode": {
    "name": "ipython",
    "version": 3
   },
   "file_extension": ".py",
   "mimetype": "text/x-python",
   "name": "python",
   "nbconvert_exporter": "python",
   "pygments_lexer": "ipython3",
   "version": "3.8.10"
  },
  "orig_nbformat": 4
 },
 "nbformat": 4,
 "nbformat_minor": 2
}

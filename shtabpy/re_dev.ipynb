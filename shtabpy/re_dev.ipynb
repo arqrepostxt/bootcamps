{
 "cells": [
  {
   "cell_type": "code",
   "execution_count": null,
   "metadata": {},
   "outputs": [],
   "source": [
    "import pandas as pd\n",
    "# Importar dados de planilha\n",
    "df = pd.read_excel('data/dev15rows.xlsx')\n",
    "lista = []\n",
    "# for x in range(1,6+1):\n",
    "    # print(f'a{x}')\n",
    "cplace = 0\n",
    "h_df = df['ESTRUTURAS E ELEMENTOS:'].str.split(',', expand=True)\n",
    "# Iterar entre 6 colunas\n",
    "for col in h_df.columns:\n",
    "    print('Coluna', col)\n",
    "    for x in range(1, 2):\n",
    "        h_df.rename(columns= {cplace:f's{col}'}, inplace=True)\n",
    "        cplace = cplace +1\n",
    "        print('     -  -  Cplace',cplace)\n",
    "h_df.to_excel('export/tab_replace.xlsx', index=False)\n",
    "# new_df = df[col].astype(str).str.split(',', expand=True)"
   ]
  },
  {
   "cell_type": "markdown",
   "metadata": {},
   "source": [
    "for col in repli_df.columns:\n",
    "     print(col)\n",
    " df[['a','b','c','d','e','f']] = df['ESTRUTURAS E ELEMENTOS:'].astype(str).str.split(',', expand=True)\n",
    " repli_df.to_excel('export/tab_replyx.xlsx', index=False)\n",
    " print('Asc')\n",
    " range(0,20)\n",
    "\n",
    "\n",
    "\n",
    "\n",
    "\n",
    "\n",
    "\n",
    " ### Estrutura\n",
    " lista =[]\n",
    "for col in df.columns:\n",
    "    new_df = df[col].astype(str).str.split(',', expand=True)\n",
    "    comprimento = len(new_df.columns)\n",
    "    if comprimento > 1:\n",
    "        i=0\n",
    "        while i < comprimento:\n",
    "            i +=1\n",
    "            lista.append(level)\n",
    "            level += 1\n",
    "            repli_df = new_df\n",
    "\n",
    "    else:\n",
    "        count_original += 1\n",
    "repli_df.to_excel('export/tab_replyx.xlsx', index=False)\n",
    "print(lista)\n",
    "\n",
    "df.join(\n",
    "        counter <= len(partir.columns)\n",
    "        print('Agora', len(partir.columns))\n",
    "        count_change += len(partir.columns)-1"
   ]
  }
 ],
 "metadata": {
  "interpreter": {
   "hash": "916dbcbb3f70747c44a77c7bcd40155683ae19c65e1c03b4aa3499c5328201f1"
  },
  "kernelspec": {
   "display_name": "Python 3.8.10 64-bit",
   "language": "python",
   "name": "python3"
  },
  "language_info": {
   "codemirror_mode": {
    "name": "ipython",
    "version": 3
   },
   "file_extension": ".py",
   "mimetype": "text/x-python",
   "name": "python",
   "nbconvert_exporter": "python",
   "pygments_lexer": "ipython3",
   "version": "3.8.10"
  },
  "orig_nbformat": 4
 },
 "nbformat": 4,
 "nbformat_minor": 2
}

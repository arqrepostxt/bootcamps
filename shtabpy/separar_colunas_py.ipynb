{
 "cells": [
  {
   "cell_type": "code",
   "execution_count": 19,
   "metadata": {},
   "outputs": [],
   "source": [
    "import pandas as pd\n",
    "# Importar dados de planilha\n",
    "df = pd.read_excel('data/dev15rows.xlsx')\n",
    "#Contador mudanças\n",
    "count_change = 0;\n",
    "# Contador originais\n",
    "count_original = 0;\n",
    "\n",
    "# Contador passagem\n",
    "level = 0;\n",
    "# Novo dataframe\n",
    "repli_df = df"
   ]
  },
  {
   "cell_type": "code",
   "execution_count": 24,
   "metadata": {},
   "outputs": [
    {
     "name": "stdout",
     "output_type": "stream",
     "text": [
      "Asc\n"
     ]
    },
    {
     "data": {
      "text/plain": [
       "range(0, 20)"
      ]
     },
     "execution_count": 24,
     "metadata": {},
     "output_type": "execute_result"
    }
   ],
   "source": [
    "# for col in repli_df.columns:\n",
    "#     print(col)\n",
    "# df[['a','b','c','d','e','f']] = df['ESTRUTURAS E ELEMENTOS:'].astype(str).str.split(',', expand=True)\n",
    "# repli_df.to_excel('export/tab_replyx.xlsx', index=False)\n",
    "# print('Asc')\n",
    "# range(0,20)"
   ]
  },
  {
   "cell_type": "code",
   "execution_count": 21,
   "metadata": {},
   "outputs": [],
   "source": [
    "# lista =[]\n",
    "# for col in df.columns:\n",
    "#     new_df = df[col].astype(str).str.split(',', expand=True)\n",
    "#     comprimento = len(new_df.columns)\n",
    "#     if comprimento > 1:\n",
    "#         i=0\n",
    "#         while i < comprimento:\n",
    "#             i +=1\n",
    "#             lista.append(level)\n",
    "#             level += 1\n",
    "#             repli_df = new_df\n",
    "\n",
    "#     else:\n",
    "#         count_original += 1\n",
    "# repli_df.to_excel('export/tab_replyx.xlsx', index=False)\n",
    "# print(lista)\n",
    "\n",
    "# df.join(\n",
    "        # counter <= len(partir.columns)\n",
    "        # print('Agora', len(partir.columns))\n",
    "        # count_change += len(partir.columns)-1"
   ]
  }
 ],
 "metadata": {
  "interpreter": {
   "hash": "916dbcbb3f70747c44a77c7bcd40155683ae19c65e1c03b4aa3499c5328201f1"
  },
  "kernelspec": {
   "display_name": "Python 3.8.10 64-bit",
   "language": "python",
   "name": "python3"
  },
  "language_info": {
   "codemirror_mode": {
    "name": "ipython",
    "version": 3
   },
   "file_extension": ".py",
   "mimetype": "text/x-python",
   "name": "python",
   "nbconvert_exporter": "python",
   "pygments_lexer": "ipython3",
   "version": "3.8.10"
  },
  "orig_nbformat": 4
 },
 "nbformat": 4,
 "nbformat_minor": 2
}

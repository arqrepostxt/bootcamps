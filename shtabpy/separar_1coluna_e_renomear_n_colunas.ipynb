{
 "cells": [
  {
   "cell_type": "code",
   "execution_count": null,
   "metadata": {},
   "outputs": [],
   "source": [
    "import pandas as pd\n",
    "# Importar dados de planilha\n",
    "df = pd.read_excel('data/dev15rows.xlsx')\n",
    "lista = []\n",
    "# for x in range(1,6+1):\n",
    "    # print(f'a{x}')\n",
    "cplace = 0\n",
    "h_df = df['ESTRUTURAS E ELEMENTOS:'].str.split(',', expand=True)\n",
    "# Iterar entre 6 colunas\n",
    "for col in h_df.columns:\n",
    "    for x in range(1, 2):\n",
    "        h_df.rename(columns= {cplace:f's{col}'}, inplace=True)\n",
    "        cplace = cplace +1\n",
    "        print('Ponto : Coluna', col, 'Cplace',cplace)\n",
    "h_df.to_excel('export/tab_replace.xlsx', index=False)\n",
    "\n",
    " "
   ]
  }
 ],
 "metadata": {
  "interpreter": {
   "hash": "916dbcbb3f70747c44a77c7bcd40155683ae19c65e1c03b4aa3499c5328201f1"
  },
  "kernelspec": {
   "display_name": "Python 3.8.10 64-bit",
   "language": "python",
   "name": "python3"
  },
  "language_info": {
   "codemirror_mode": {
    "name": "ipython",
    "version": 3
   },
   "file_extension": ".py",
   "mimetype": "text/x-python",
   "name": "python",
   "nbconvert_exporter": "python",
   "pygments_lexer": "ipython3",
   "version": "3.8.10"
  },
  "orig_nbformat": 4
 },
 "nbformat": 4,
 "nbformat_minor": 2
}
